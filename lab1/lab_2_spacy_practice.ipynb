{
  "cells": [
    {
      "cell_type": "code",
      "execution_count": 8,
      "metadata": {
        "colab": {
          "base_uri": "https://localhost:8080/"
        },
        "id": "2LYbIEjx1o6S",
        "outputId": "7988463b-1709-4ced-f67d-5f291375691c"
      },
      "outputs": [
        {
          "name": "stdout",
          "output_type": "stream",
          "text": [
            "Collecting en-core-web-sm==3.6.0\n",
            "  Downloading https://github.com/explosion/spacy-models/releases/download/en_core_web_sm-3.6.0/en_core_web_sm-3.6.0-py3-none-any.whl (12.8 MB)\n",
            "     ---------------------------------------- 0.0/12.8 MB ? eta -:--:--\n",
            "     ---------------------------------------- 0.0/12.8 MB ? eta -:--:--\n",
            "     --------------------------------------- 0.0/12.8 MB 262.6 kB/s eta 0:00:49\n",
            "     --------------------------------------- 0.0/12.8 MB 245.8 kB/s eta 0:00:52\n",
            "     --------------------------------------- 0.1/12.8 MB 357.2 kB/s eta 0:00:36\n",
            "     --------------------------------------- 0.2/12.8 MB 612.6 kB/s eta 0:00:21\n",
            "      -------------------------------------- 0.3/12.8 MB 874.6 kB/s eta 0:00:15\n",
            "     - -------------------------------------- 0.4/12.8 MB 1.2 MB/s eta 0:00:10\n",
            "     - -------------------------------------- 0.6/12.8 MB 1.6 MB/s eta 0:00:08\n",
            "     --- ------------------------------------ 1.0/12.8 MB 2.3 MB/s eta 0:00:06\n",
            "     --- ------------------------------------ 1.2/12.8 MB 2.6 MB/s eta 0:00:05\n",
            "     --- ------------------------------------ 1.2/12.8 MB 2.6 MB/s eta 0:00:05\n",
            "     --- ------------------------------------ 1.2/12.8 MB 2.6 MB/s eta 0:00:05\n",
            "     --- ------------------------------------ 1.3/12.8 MB 2.1 MB/s eta 0:00:06\n",
            "     ---- ----------------------------------- 1.6/12.8 MB 2.6 MB/s eta 0:00:05\n",
            "     ----- ---------------------------------- 1.8/12.8 MB 2.5 MB/s eta 0:00:05\n",
            "     ----- ---------------------------------- 1.8/12.8 MB 2.5 MB/s eta 0:00:05\n",
            "     ------ --------------------------------- 2.0/12.8 MB 2.5 MB/s eta 0:00:05\n",
            "     ------ --------------------------------- 2.0/12.8 MB 2.4 MB/s eta 0:00:05\n",
            "     ------ --------------------------------- 2.1/12.8 MB 2.5 MB/s eta 0:00:05\n",
            "     ------ --------------------------------- 2.2/12.8 MB 2.3 MB/s eta 0:00:05\n",
            "     ------ --------------------------------- 2.2/12.8 MB 2.3 MB/s eta 0:00:05\n",
            "     ------- -------------------------------- 2.3/12.8 MB 2.2 MB/s eta 0:00:05\n",
            "     ------- -------------------------------- 2.3/12.8 MB 2.2 MB/s eta 0:00:05\n",
            "     -------- ------------------------------- 2.8/12.8 MB 2.5 MB/s eta 0:00:05\n",
            "     -------- ------------------------------- 2.8/12.8 MB 2.5 MB/s eta 0:00:04\n",
            "     -------- ------------------------------- 2.8/12.8 MB 2.5 MB/s eta 0:00:04\n",
            "     ---------- ----------------------------- 3.3/12.8 MB 2.6 MB/s eta 0:00:04\n",
            "     ----------- ---------------------------- 3.6/12.8 MB 2.8 MB/s eta 0:00:04\n",
            "     ------------- -------------------------- 4.2/12.8 MB 3.1 MB/s eta 0:00:03\n",
            "     ------------- -------------------------- 4.2/12.8 MB 3.0 MB/s eta 0:00:03\n",
            "     -------------- ------------------------- 4.7/12.8 MB 3.3 MB/s eta 0:00:03\n",
            "     --------------- ------------------------ 5.1/12.8 MB 3.4 MB/s eta 0:00:03\n",
            "     ----------------- ---------------------- 5.6/12.8 MB 3.6 MB/s eta 0:00:02\n",
            "     ------------------ --------------------- 6.0/12.8 MB 3.8 MB/s eta 0:00:02\n",
            "     -------------------- ------------------- 6.4/12.8 MB 4.0 MB/s eta 0:00:02\n",
            "     --------------------- ------------------ 6.9/12.8 MB 4.1 MB/s eta 0:00:02\n",
            "     ---------------------- ----------------- 7.3/12.8 MB 4.2 MB/s eta 0:00:02\n",
            "     ----------------------- ---------------- 7.4/12.8 MB 4.2 MB/s eta 0:00:02\n",
            "     ------------------------ --------------- 7.9/12.8 MB 4.4 MB/s eta 0:00:02\n",
            "     -------------------------- ------------- 8.3/12.8 MB 4.5 MB/s eta 0:00:01\n",
            "     --------------------------- ------------ 8.6/12.8 MB 4.5 MB/s eta 0:00:01\n",
            "     ---------------------------- ----------- 9.2/12.8 MB 4.7 MB/s eta 0:00:01\n",
            "     ----------------------------- ---------- 9.5/12.8 MB 4.7 MB/s eta 0:00:01\n",
            "     ------------------------------- -------- 10.0/12.8 MB 4.9 MB/s eta 0:00:01\n",
            "     -------------------------------- ------- 10.4/12.8 MB 5.5 MB/s eta 0:00:01\n",
            "     --------------------------------- ------ 10.9/12.8 MB 5.8 MB/s eta 0:00:01\n",
            "     ----------------------------------- ---- 11.3/12.8 MB 5.8 MB/s eta 0:00:01\n",
            "     ------------------------------------ --- 11.7/12.8 MB 6.3 MB/s eta 0:00:01\n",
            "     ------------------------------------- -- 12.1/12.8 MB 6.7 MB/s eta 0:00:01\n",
            "     ---------------------------------------  12.6/12.8 MB 8.2 MB/s eta 0:00:01\n",
            "     ---------------------------------------  12.8/12.8 MB 8.2 MB/s eta 0:00:01\n",
            "     ---------------------------------------- 12.8/12.8 MB 7.9 MB/s eta 0:00:00\n",
            "Requirement already satisfied: spacy<3.7.0,>=3.6.0 in c:\\users\\mainc\\anaconda3\\envs\\nlp\\lib\\site-packages (from en-core-web-sm==3.6.0) (3.6.1)\n",
            "Requirement already satisfied: spacy-legacy<3.1.0,>=3.0.11 in c:\\users\\mainc\\anaconda3\\envs\\nlp\\lib\\site-packages (from spacy<3.7.0,>=3.6.0->en-core-web-sm==3.6.0) (3.0.12)\n",
            "Requirement already satisfied: spacy-loggers<2.0.0,>=1.0.0 in c:\\users\\mainc\\anaconda3\\envs\\nlp\\lib\\site-packages (from spacy<3.7.0,>=3.6.0->en-core-web-sm==3.6.0) (1.0.5)\n",
            "Requirement already satisfied: murmurhash<1.1.0,>=0.28.0 in c:\\users\\mainc\\anaconda3\\envs\\nlp\\lib\\site-packages (from spacy<3.7.0,>=3.6.0->en-core-web-sm==3.6.0) (1.0.10)\n",
            "Requirement already satisfied: cymem<2.1.0,>=2.0.2 in c:\\users\\mainc\\anaconda3\\envs\\nlp\\lib\\site-packages (from spacy<3.7.0,>=3.6.0->en-core-web-sm==3.6.0) (2.0.8)\n",
            "Requirement already satisfied: preshed<3.1.0,>=3.0.2 in c:\\users\\mainc\\anaconda3\\envs\\nlp\\lib\\site-packages (from spacy<3.7.0,>=3.6.0->en-core-web-sm==3.6.0) (3.0.8)\n",
            "Requirement already satisfied: thinc<8.2.0,>=8.1.8 in c:\\users\\mainc\\anaconda3\\envs\\nlp\\lib\\site-packages (from spacy<3.7.0,>=3.6.0->en-core-web-sm==3.6.0) (8.1.12)\n",
            "Requirement already satisfied: wasabi<1.2.0,>=0.9.1 in c:\\users\\mainc\\anaconda3\\envs\\nlp\\lib\\site-packages (from spacy<3.7.0,>=3.6.0->en-core-web-sm==3.6.0) (1.1.2)\n",
            "Requirement already satisfied: srsly<3.0.0,>=2.4.3 in c:\\users\\mainc\\anaconda3\\envs\\nlp\\lib\\site-packages (from spacy<3.7.0,>=3.6.0->en-core-web-sm==3.6.0) (2.4.7)\n",
            "Requirement already satisfied: catalogue<2.1.0,>=2.0.6 in c:\\users\\mainc\\anaconda3\\envs\\nlp\\lib\\site-packages (from spacy<3.7.0,>=3.6.0->en-core-web-sm==3.6.0) (2.0.9)\n",
            "Requirement already satisfied: typer<0.10.0,>=0.3.0 in c:\\users\\mainc\\anaconda3\\envs\\nlp\\lib\\site-packages (from spacy<3.7.0,>=3.6.0->en-core-web-sm==3.6.0) (0.9.0)\n",
            "Requirement already satisfied: pathy>=0.10.0 in c:\\users\\mainc\\anaconda3\\envs\\nlp\\lib\\site-packages (from spacy<3.7.0,>=3.6.0->en-core-web-sm==3.6.0) (0.10.2)\n",
            "Requirement already satisfied: smart-open<7.0.0,>=5.2.1 in c:\\users\\mainc\\anaconda3\\envs\\nlp\\lib\\site-packages (from spacy<3.7.0,>=3.6.0->en-core-web-sm==3.6.0) (5.2.1)\n",
            "Requirement already satisfied: tqdm<5.0.0,>=4.38.0 in c:\\users\\mainc\\anaconda3\\envs\\nlp\\lib\\site-packages (from spacy<3.7.0,>=3.6.0->en-core-web-sm==3.6.0) (4.66.1)\n",
            "Requirement already satisfied: numpy>=1.15.0 in c:\\users\\mainc\\anaconda3\\envs\\nlp\\lib\\site-packages (from spacy<3.7.0,>=3.6.0->en-core-web-sm==3.6.0) (1.26.0)\n",
            "Requirement already satisfied: requests<3.0.0,>=2.13.0 in c:\\users\\mainc\\anaconda3\\envs\\nlp\\lib\\site-packages (from spacy<3.7.0,>=3.6.0->en-core-web-sm==3.6.0) (2.31.0)\n",
            "Requirement already satisfied: pydantic!=1.8,!=1.8.1,<3.0.0,>=1.7.4 in c:\\users\\mainc\\anaconda3\\envs\\nlp\\lib\\site-packages (from spacy<3.7.0,>=3.6.0->en-core-web-sm==3.6.0) (2.0.3)\n",
            "Requirement already satisfied: jinja2 in c:\\users\\mainc\\anaconda3\\envs\\nlp\\lib\\site-packages (from spacy<3.7.0,>=3.6.0->en-core-web-sm==3.6.0) (3.1.2)\n",
            "Requirement already satisfied: setuptools in c:\\users\\mainc\\anaconda3\\envs\\nlp\\lib\\site-packages (from spacy<3.7.0,>=3.6.0->en-core-web-sm==3.6.0) (68.2.2)\n",
            "Requirement already satisfied: packaging>=20.0 in c:\\users\\mainc\\anaconda3\\envs\\nlp\\lib\\site-packages (from spacy<3.7.0,>=3.6.0->en-core-web-sm==3.6.0) (23.1)\n",
            "Requirement already satisfied: langcodes<4.0.0,>=3.2.0 in c:\\users\\mainc\\anaconda3\\envs\\nlp\\lib\\site-packages (from spacy<3.7.0,>=3.6.0->en-core-web-sm==3.6.0) (3.3.0)\n",
            "Requirement already satisfied: annotated-types>=0.4.0 in c:\\users\\mainc\\anaconda3\\envs\\nlp\\lib\\site-packages (from pydantic!=1.8,!=1.8.1,<3.0.0,>=1.7.4->spacy<3.7.0,>=3.6.0->en-core-web-sm==3.6.0) (0.5.0)\n",
            "Requirement already satisfied: pydantic-core==2.3.0 in c:\\users\\mainc\\anaconda3\\envs\\nlp\\lib\\site-packages (from pydantic!=1.8,!=1.8.1,<3.0.0,>=1.7.4->spacy<3.7.0,>=3.6.0->en-core-web-sm==3.6.0) (2.3.0)\n",
            "Requirement already satisfied: typing-extensions>=4.6.1 in c:\\users\\mainc\\anaconda3\\envs\\nlp\\lib\\site-packages (from pydantic!=1.8,!=1.8.1,<3.0.0,>=1.7.4->spacy<3.7.0,>=3.6.0->en-core-web-sm==3.6.0) (4.8.0)\n",
            "Requirement already satisfied: charset-normalizer<4,>=2 in c:\\users\\mainc\\anaconda3\\envs\\nlp\\lib\\site-packages (from requests<3.0.0,>=2.13.0->spacy<3.7.0,>=3.6.0->en-core-web-sm==3.6.0) (3.2.0)\n",
            "Requirement already satisfied: idna<4,>=2.5 in c:\\users\\mainc\\anaconda3\\envs\\nlp\\lib\\site-packages (from requests<3.0.0,>=2.13.0->spacy<3.7.0,>=3.6.0->en-core-web-sm==3.6.0) (3.4)\n",
            "Requirement already satisfied: urllib3<3,>=1.21.1 in c:\\users\\mainc\\anaconda3\\envs\\nlp\\lib\\site-packages (from requests<3.0.0,>=2.13.0->spacy<3.7.0,>=3.6.0->en-core-web-sm==3.6.0) (2.0.5)\n",
            "Requirement already satisfied: certifi>=2017.4.17 in c:\\users\\mainc\\anaconda3\\envs\\nlp\\lib\\site-packages (from requests<3.0.0,>=2.13.0->spacy<3.7.0,>=3.6.0->en-core-web-sm==3.6.0) (2023.7.22)\n",
            "Requirement already satisfied: blis<0.8.0,>=0.7.8 in c:\\users\\mainc\\anaconda3\\envs\\nlp\\lib\\site-packages (from thinc<8.2.0,>=8.1.8->spacy<3.7.0,>=3.6.0->en-core-web-sm==3.6.0) (0.7.10)\n",
            "Requirement already satisfied: confection<1.0.0,>=0.0.1 in c:\\users\\mainc\\anaconda3\\envs\\nlp\\lib\\site-packages (from thinc<8.2.0,>=8.1.8->spacy<3.7.0,>=3.6.0->en-core-web-sm==3.6.0) (0.1.3)\n",
            "Requirement already satisfied: colorama in c:\\users\\mainc\\appdata\\roaming\\python\\python311\\site-packages (from tqdm<5.0.0,>=4.38.0->spacy<3.7.0,>=3.6.0->en-core-web-sm==3.6.0) (0.4.6)\n",
            "Requirement already satisfied: click<9.0.0,>=7.1.1 in c:\\users\\mainc\\anaconda3\\envs\\nlp\\lib\\site-packages (from typer<0.10.0,>=0.3.0->spacy<3.7.0,>=3.6.0->en-core-web-sm==3.6.0) (8.1.7)\n",
            "Requirement already satisfied: MarkupSafe>=2.0 in c:\\users\\mainc\\anaconda3\\envs\\nlp\\lib\\site-packages (from jinja2->spacy<3.7.0,>=3.6.0->en-core-web-sm==3.6.0) (2.1.3)\n",
            "\u001b[38;5;2m✔ Download and installation successful\u001b[0m\n",
            "You can now load the package via spacy.load('en_core_web_sm')\n"
          ]
        }
      ],
      "source": [
        "!python -m spacy download en_core_web_sm"
      ]
    },
    {
      "cell_type": "code",
      "execution_count": 9,
      "metadata": {
        "id": "ALn_QDMnGY7Y"
      },
      "outputs": [],
      "source": [
        "import spacy\n",
        "import pandas as pd\n",
        "\n",
        "from tqdm import tqdm\n",
        "from spacy.tokens import DocBin\n",
        "\n",
        "nlp = spacy.load(\"en_core_web_sm\")\n",
        "data_processing = False"
      ]
    },
    {
      "cell_type": "code",
      "execution_count": 10,
      "metadata": {
        "id": "2lsjWG-g1o6c"
      },
      "outputs": [
        {
          "data": {
            "text/html": [
              "<div>\n",
              "<style scoped>\n",
              "    .dataframe tbody tr th:only-of-type {\n",
              "        vertical-align: middle;\n",
              "    }\n",
              "\n",
              "    .dataframe tbody tr th {\n",
              "        vertical-align: top;\n",
              "    }\n",
              "\n",
              "    .dataframe thead th {\n",
              "        text-align: right;\n",
              "    }\n",
              "</style>\n",
              "<table border=\"1\" class=\"dataframe\">\n",
              "  <thead>\n",
              "    <tr style=\"text-align: right;\">\n",
              "      <th></th>\n",
              "      <th>review</th>\n",
              "      <th>sentiment</th>\n",
              "    </tr>\n",
              "  </thead>\n",
              "  <tbody>\n",
              "    <tr>\n",
              "      <th>0</th>\n",
              "      <td>One of the other reviewers has mentioned that ...</td>\n",
              "      <td>positive</td>\n",
              "    </tr>\n",
              "    <tr>\n",
              "      <th>1</th>\n",
              "      <td>A wonderful little production. &lt;br /&gt;&lt;br /&gt;The...</td>\n",
              "      <td>positive</td>\n",
              "    </tr>\n",
              "    <tr>\n",
              "      <th>2</th>\n",
              "      <td>I thought this was a wonderful way to spend ti...</td>\n",
              "      <td>positive</td>\n",
              "    </tr>\n",
              "    <tr>\n",
              "      <th>3</th>\n",
              "      <td>Basically there's a family where a little boy ...</td>\n",
              "      <td>negative</td>\n",
              "    </tr>\n",
              "    <tr>\n",
              "      <th>4</th>\n",
              "      <td>Petter Mattei's \"Love in the Time of Money\" is...</td>\n",
              "      <td>positive</td>\n",
              "    </tr>\n",
              "    <tr>\n",
              "      <th>...</th>\n",
              "      <td>...</td>\n",
              "      <td>...</td>\n",
              "    </tr>\n",
              "    <tr>\n",
              "      <th>49995</th>\n",
              "      <td>I thought this movie did a down right good job...</td>\n",
              "      <td>positive</td>\n",
              "    </tr>\n",
              "    <tr>\n",
              "      <th>49996</th>\n",
              "      <td>Bad plot, bad dialogue, bad acting, idiotic di...</td>\n",
              "      <td>negative</td>\n",
              "    </tr>\n",
              "    <tr>\n",
              "      <th>49997</th>\n",
              "      <td>I am a Catholic taught in parochial elementary...</td>\n",
              "      <td>negative</td>\n",
              "    </tr>\n",
              "    <tr>\n",
              "      <th>49998</th>\n",
              "      <td>I'm going to have to disagree with the previou...</td>\n",
              "      <td>negative</td>\n",
              "    </tr>\n",
              "    <tr>\n",
              "      <th>49999</th>\n",
              "      <td>No one expects the Star Trek movies to be high...</td>\n",
              "      <td>negative</td>\n",
              "    </tr>\n",
              "  </tbody>\n",
              "</table>\n",
              "<p>50000 rows × 2 columns</p>\n",
              "</div>"
            ],
            "text/plain": [
              "                                                  review sentiment\n",
              "0      One of the other reviewers has mentioned that ...  positive\n",
              "1      A wonderful little production. <br /><br />The...  positive\n",
              "2      I thought this was a wonderful way to spend ti...  positive\n",
              "3      Basically there's a family where a little boy ...  negative\n",
              "4      Petter Mattei's \"Love in the Time of Money\" is...  positive\n",
              "...                                                  ...       ...\n",
              "49995  I thought this movie did a down right good job...  positive\n",
              "49996  Bad plot, bad dialogue, bad acting, idiotic di...  negative\n",
              "49997  I am a Catholic taught in parochial elementary...  negative\n",
              "49998  I'm going to have to disagree with the previou...  negative\n",
              "49999  No one expects the Star Trek movies to be high...  negative\n",
              "\n",
              "[50000 rows x 2 columns]"
            ]
          },
          "execution_count": 10,
          "metadata": {},
          "output_type": "execute_result"
        }
      ],
      "source": [
        "df = pd.read_csv('IMDB Dataset.csv', encoding=\"utf8\")\n",
        "df"
      ]
    },
    {
      "cell_type": "code",
      "execution_count": 11,
      "metadata": {
        "id": "KjM9p3jo1o6e"
      },
      "outputs": [],
      "source": [
        "df = df.sample(frac=0.5)"
      ]
    },
    {
      "cell_type": "code",
      "execution_count": 12,
      "metadata": {
        "colab": {
          "base_uri": "https://localhost:8080/"
        },
        "id": "7wyfpzYW1o6h",
        "outputId": "7df5f746-8ea2-4f5f-8040-8267643d0d36"
      },
      "outputs": [
        {
          "data": {
            "text/plain": [
              "sentiment\n",
              "positive    12568\n",
              "negative    12432\n",
              "Name: count, dtype: int64"
            ]
          },
          "execution_count": 12,
          "metadata": {},
          "output_type": "execute_result"
        }
      ],
      "source": [
        "df['sentiment'].value_counts()"
      ]
    },
    {
      "cell_type": "code",
      "execution_count": 13,
      "metadata": {
        "id": "FQsRQ4eS1o6j"
      },
      "outputs": [],
      "source": [
        "data = [tuple(df.iloc[i].values) for i in range(df.shape[0])]"
      ]
    },
    {
      "cell_type": "code",
      "execution_count": 14,
      "metadata": {
        "colab": {
          "base_uri": "https://localhost:8080/"
        },
        "id": "M94-pVJhVAb7",
        "outputId": "6251e140-d333-4a59-bb33-c7d8a1137fac"
      },
      "outputs": [
        {
          "data": {
            "text/plain": [
              "sentiment\n",
              "positive    12568\n",
              "negative    12432\n",
              "Name: count, dtype: int64"
            ]
          },
          "execution_count": 14,
          "metadata": {},
          "output_type": "execute_result"
        }
      ],
      "source": [
        "df['sentiment'].value_counts()"
      ]
    },
    {
      "cell_type": "code",
      "execution_count": 15,
      "metadata": {
        "id": "lKMsUKfV1o6k"
      },
      "outputs": [],
      "source": [
        "train_data = data[:20000]\n",
        "valid_data = data[18000:]"
      ]
    },
    {
      "cell_type": "code",
      "execution_count": 16,
      "metadata": {
        "id": "OiCg-Nr2Ga3Z"
      },
      "outputs": [],
      "source": [
        "def make_docs(data):\n",
        "    \"\"\"\n",
        "    this will take a list of texts and labels\n",
        "    and transform them in spacy documents\n",
        "    data: list(tuple(text, label))\n",
        "    returns: List(spacy.Doc.doc)\n",
        "    \"\"\"\n",
        "    docs = []\n",
        "    # nlp.pipe([texts]) is way faster than running\n",
        "    # nlp(text) for each text\n",
        "    # as_tuples allows us to pass in a tuple,\n",
        "    # the first one is treated as text\n",
        "    # the second one will get returned as it is.\n",
        "    # a = tqdm(nlp.pipe(data, as_tuples=True), total = len(data))\n",
        "    for doc, label in tqdm(nlp.pipe(data, as_tuples=True), total = len(data)):\n",
        "        if label == 'negative':\n",
        "            doc.cats[\"positive\"] = 0\n",
        "            doc.cats[\"negative\"] = 1\n",
        "        else:\n",
        "            doc.cats[\"positive\"] = 1\n",
        "            doc.cats[\"negative\"] = 0\n",
        "        # we need to set the (text)cat(egory) for each document\n",
        "        #doc.cats[\"positive\"] = label\n",
        "        # put them into a nice list\n",
        "        docs.append(doc)\n",
        "    return docs"
      ]
    },
    {
      "cell_type": "code",
      "execution_count": 17,
      "metadata": {
        "colab": {
          "base_uri": "https://localhost:8080/"
        },
        "id": "ogVuX_fKGdrb",
        "outputId": "c0236c3b-1c3c-43ba-94bc-ac40da2b4619"
      },
      "outputs": [],
      "source": [
        "# we are so far only interested in the first 5000 reviews\n",
        "# this will keep the training time short.\n",
        "# In practice take as much data as you can get.\n",
        "# you can always reduce it to make the script even faster.\n",
        "num_texts = 5000\n",
        "# first we need to transform all the training data\n",
        "if data_processing:\n",
        "    train_docs = make_docs(train_data[:num_texts])"
      ]
    },
    {
      "cell_type": "code",
      "execution_count": 18,
      "metadata": {
        "colab": {
          "base_uri": "https://localhost:8080/"
        },
        "id": "hL3c5jIJHijB",
        "outputId": "487bfd73-ee5a-4044-dd7b-8d3de741cc8c"
      },
      "outputs": [
        {
          "ename": "NameError",
          "evalue": "name 'train_docs' is not defined",
          "output_type": "error",
          "traceback": [
            "\u001b[1;31m---------------------------------------------------------------------------\u001b[0m",
            "\u001b[1;31mNameError\u001b[0m                                 Traceback (most recent call last)",
            "\u001b[1;32mc:\\Users\\mainc\\OneDrive\\Документы\\NLP\\lab1\\lab_2_spacy_practice.ipynb Cell 11\u001b[0m line \u001b[0;36m2\n\u001b[0;32m      <a href='vscode-notebook-cell:/c%3A/Users/mainc/OneDrive/%D0%94%D0%BE%D0%BA%D1%83%D0%BC%D0%B5%D0%BD%D1%82%D1%8B/NLP/lab1/lab_2_spacy_practice.ipynb#X14sZmlsZQ%3D%3D?line=0'>1</a>\u001b[0m \u001b[39m# then we save it in a binary file to disc\u001b[39;00m\n\u001b[1;32m----> <a href='vscode-notebook-cell:/c%3A/Users/mainc/OneDrive/%D0%94%D0%BE%D0%BA%D1%83%D0%BC%D0%B5%D0%BD%D1%82%D1%8B/NLP/lab1/lab_2_spacy_practice.ipynb#X14sZmlsZQ%3D%3D?line=1'>2</a>\u001b[0m doc_bin \u001b[39m=\u001b[39m DocBin(docs\u001b[39m=\u001b[39mtrain_docs)\n\u001b[0;32m      <a href='vscode-notebook-cell:/c%3A/Users/mainc/OneDrive/%D0%94%D0%BE%D0%BA%D1%83%D0%BC%D0%B5%D0%BD%D1%82%D1%8B/NLP/lab1/lab_2_spacy_practice.ipynb#X14sZmlsZQ%3D%3D?line=2'>3</a>\u001b[0m doc_bin\u001b[39m.\u001b[39mto_disk(\u001b[39m\"\u001b[39m\u001b[39mtrain.spacy\u001b[39m\u001b[39m\"\u001b[39m)\n\u001b[0;32m      <a href='vscode-notebook-cell:/c%3A/Users/mainc/OneDrive/%D0%94%D0%BE%D0%BA%D1%83%D0%BC%D0%B5%D0%BD%D1%82%D1%8B/NLP/lab1/lab_2_spacy_practice.ipynb#X14sZmlsZQ%3D%3D?line=3'>4</a>\u001b[0m \u001b[39m# repeat for validation data\u001b[39;00m\n",
            "\u001b[1;31mNameError\u001b[0m: name 'train_docs' is not defined"
          ]
        }
      ],
      "source": [
        "\n",
        "# then we save it in a binary file to disc\n",
        "doc_bin = DocBin(docs=train_docs)\n",
        "doc_bin.to_disk(\"train.spacy\")\n",
        "# repeat for validation data\n",
        "valid_docs = make_docs(valid_data[:num_texts//2])\n",
        "doc_bin = DocBin(docs=valid_docs)\n",
        "doc_bin.to_disk(\"valid.spacy\")"
      ]
    },
    {
      "cell_type": "markdown",
      "metadata": {
        "id": "alCdl9QopLef"
      },
      "source": [
        "на этом месте мы идем в https://spacy.io/usage/training#quickstart, там настраиваем под себя конфиг (textcat), копируем его руками(!) в base_config.cfg, указываем правильные пути до трейн и вэлид\n"
      ]
    },
    {
      "cell_type": "code",
      "execution_count": null,
      "metadata": {},
      "outputs": [
        {
          "name": "stdout",
          "output_type": "stream",
          "text": [
            "\u001b[38;5;2m✔ Auto-filled config with all values\u001b[0m\n",
            "\u001b[38;5;2m✔ Saved config\u001b[0m\n",
            "config.cfg\n",
            "You can now add your data and train your pipeline:\n",
            "python -m spacy train config.cfg --paths.train ./train.spacy --paths.dev ./dev.spacy\n"
          ]
        }
      ],
      "source": [
        "!python -m spacy init fill-config base_config.cfg config.cfg"
      ]
    },
    {
      "cell_type": "code",
      "execution_count": null,
      "metadata": {},
      "outputs": [
        {
          "name": "stdout",
          "output_type": "stream",
          "text": [
            "\u001b[38;5;4mℹ Saving to output directory: output\u001b[0m\n",
            "\u001b[38;5;4mℹ Using CPU\u001b[0m\n",
            "\u001b[1m\n",
            "=========================== Initializing pipeline ===========================\u001b[0m\n",
            "\u001b[38;5;2m✔ Initialized pipeline\u001b[0m\n",
            "\u001b[1m\n",
            "============================= Training pipeline =============================\u001b[0m\n",
            "\u001b[38;5;4mℹ Pipeline: ['textcat']\u001b[0m\n",
            "\u001b[38;5;4mℹ Initial learn rate: 0.001\u001b[0m\n",
            "E    #       LOSS TEXTCAT  CATS_SCORE  SCORE \n",
            "---  ------  ------------  ----------  ------\n",
            "  0       0          0.25       33.51    0.34\n",
            "  0     200         52.92       51.47    0.51\n",
            "  0     400         52.75       33.16    0.33\n",
            "  0     600         52.05       34.10    0.34\n",
            "  0     800         53.66       62.39    0.62\n",
            "  0    1000         54.27       65.70    0.66\n",
            "  0    1200         46.71       65.82    0.66\n",
            "  0    1400         54.77       48.86    0.49\n",
            "  0    1600         60.00       71.00    0.71\n",
            "  0    1800         36.74       72.68    0.73\n",
            "  0    2000         51.18       58.01    0.58\n",
            "  0    2200         50.85       68.17    0.68\n",
            "  0    2400         52.44       72.79    0.73\n",
            "  0    2600         43.87       72.51    0.73\n",
            "  0    2800         48.88       67.70    0.68\n",
            "  0    3000         41.84       74.30    0.74\n",
            "  0    3200         39.48       75.05    0.75\n",
            "  0    3400         46.35       75.51    0.76\n",
            "  0    3600         38.38       71.07    0.71\n",
            "  1    3800         32.81       77.63    0.78\n",
            "  1    4000         30.94       77.68    0.78\n",
            "  1    4200         31.08       78.70    0.79\n",
            "  1    4400         24.43       78.54    0.79\n",
            "  1    4600         27.61       79.04    0.79\n",
            "  1    4800         28.23       78.90    0.79\n",
            "  1    5000         32.63       79.99    0.80\n",
            "  1    5200         29.80       73.98    0.74\n",
            "  2    5400         26.91       82.56    0.83\n",
            "  2    5600         16.85       80.16    0.80\n",
            "  2    5800         21.57       79.93    0.80\n",
            "  2    6000         21.04       81.40    0.81\n",
            "  2    6200         18.50       80.50    0.81\n",
            "  2    6400         21.74       81.13    0.81\n",
            "  2    6600         21.55       80.59    0.81\n",
            "  2    6800         24.29       77.72    0.78\n",
            "  2    7000         29.10       82.30    0.82\n",
            "\u001b[38;5;2m✔ Saved pipeline to output directory\u001b[0m\n",
            "output\\model-last\n"
          ]
        }
      ],
      "source": [
        "!python -m spacy train config.cfg --paths.train ./train.spacy --paths.dev ./valid.spacy --training.max_epochs 3 --output ./output"
      ]
    },
    {
      "cell_type": "code",
      "execution_count": 4,
      "metadata": {
        "colab": {
          "base_uri": "https://localhost:8080/"
        },
        "id": "j1tnFjeaILJu",
        "outputId": "1e7245b5-a03a-43dd-a105-1f88ba2c90dd"
      },
      "outputs": [
        {
          "name": "stdout",
          "output_type": "stream",
          "text": [
            "type : ‘quit’ to exit\n",
            "{'positive': 0.9841685891151428, 'negative': 0.015831388533115387}\n",
            "the sentiment is positive\n",
            "{'positive': 0.023151319473981857, 'negative': 0.9768486618995667}\n",
            "the sentiment is negative\n",
            "{'positive': 0.924335777759552, 'negative': 0.075664222240448}\n",
            "the sentiment is positive\n"
          ]
        }
      ],
      "source": [
        "import spacy\n",
        "# load thebest model from training\n",
        "nlp = spacy.load(\"output/model-best\")\n",
        "text = \"\"\n",
        "print(\"type : ‘quit’ to exit\")\n",
        "# predict the sentiment until someone writes quit\n",
        "while text != \"quit\":\n",
        "    text = input(\"Please enter example input: \")\n",
        "    doc = nlp(text)\n",
        "    print(doc.cats)\n",
        "    if doc.cats['positive'] >.5:\n",
        "        print(f\"the sentiment is positive\")\n",
        "    else:\n",
        "        print(f\"the sentiment is negative\")"
      ]
    },
    {
      "cell_type": "code",
      "execution_count": null,
      "metadata": {
        "id": "3z8PQema163A"
      },
      "outputs": [],
      "source": []
    }
  ],
  "metadata": {
    "colab": {
      "provenance": []
    },
    "kernelspec": {
      "display_name": "Python 3",
      "language": "python",
      "name": "python3"
    },
    "language_info": {
      "codemirror_mode": {
        "name": "ipython",
        "version": 3
      },
      "file_extension": ".py",
      "mimetype": "text/x-python",
      "name": "python",
      "nbconvert_exporter": "python",
      "pygments_lexer": "ipython3",
      "version": "3.11.5"
    }
  },
  "nbformat": 4,
  "nbformat_minor": 0
}
